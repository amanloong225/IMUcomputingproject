{
 "cells": [
  {
   "cell_type": "code",
   "execution_count": 9,
   "id": "5652372d",
   "metadata": {},
   "outputs": [
    {
     "name": "stdout",
     "output_type": "stream",
     "text": [
      "Collecting flask-cors\n",
      "  Using cached flask_cors-6.0.1-py3-none-any.whl.metadata (5.3 kB)\n",
      "Requirement already satisfied: flask>=0.9 in c:\\users\\andre\\appdata\\local\\programs\\python\\python313\\lib\\site-packages (from flask-cors) (3.1.1)\n",
      "Requirement already satisfied: Werkzeug>=0.7 in c:\\users\\andre\\appdata\\local\\programs\\python\\python313\\lib\\site-packages (from flask-cors) (3.1.3)\n",
      "Requirement already satisfied: blinker>=1.9.0 in c:\\users\\andre\\appdata\\local\\programs\\python\\python313\\lib\\site-packages (from flask>=0.9->flask-cors) (1.9.0)\n",
      "Requirement already satisfied: click>=8.1.3 in c:\\users\\andre\\appdata\\local\\programs\\python\\python313\\lib\\site-packages (from flask>=0.9->flask-cors) (8.1.7)\n",
      "Requirement already satisfied: itsdangerous>=2.2.0 in c:\\users\\andre\\appdata\\local\\programs\\python\\python313\\lib\\site-packages (from flask>=0.9->flask-cors) (2.2.0)\n",
      "Requirement already satisfied: jinja2>=3.1.2 in c:\\users\\andre\\appdata\\local\\programs\\python\\python313\\lib\\site-packages (from flask>=0.9->flask-cors) (3.1.6)\n",
      "Requirement already satisfied: markupsafe>=2.1.1 in c:\\users\\andre\\appdata\\local\\programs\\python\\python313\\lib\\site-packages (from flask>=0.9->flask-cors) (3.0.2)\n",
      "Requirement already satisfied: colorama in c:\\users\\andre\\appdata\\roaming\\python\\python313\\site-packages (from click>=8.1.3->flask>=0.9->flask-cors) (0.4.6)\n",
      "Downloading flask_cors-6.0.1-py3-none-any.whl (13 kB)\n",
      "Installing collected packages: flask-cors\n",
      "Successfully installed flask-cors-6.0.1\n",
      "Note: you may need to restart the kernel to use updated packages.\n"
     ]
    },
    {
     "name": "stderr",
     "output_type": "stream",
     "text": [
      "\n",
      "[notice] A new release of pip is available: 24.2 -> 25.2\n",
      "[notice] To update, run: python.exe -m pip install --upgrade pip\n"
     ]
    }
   ],
   "source": [
    "pip install flask-cors"
   ]
  },
  {
   "cell_type": "code",
   "execution_count": 3,
   "id": "372fae29",
   "metadata": {},
   "outputs": [],
   "source": [
    "import pandas as pd\n",
    "import plotly.express as px\n",
    "import dash\n",
    "from dash import dcc, html\n",
    "from dash.dependencies import Input, Output\n",
    "import random\n",
    "import plotly.graph_objects as go\n",
    "from matplotlib.gridspec import GridSpec\n",
    "import plotly.figure_factory as ff\n",
    "import dash\n",
    "from dash import html, dcc\n",
    "import plotly.express as px\n",
    "import random\n",
    "from dash import dcc, html, Input, Output\n",
    "import dash_bootstrap_components as dbc\n",
    "import pandas as pd\n",
    "import flask\n",
    "import plotly.express as px\n",
    "from flask_cors import CORS\n",
    "\n",
    "import warnings  "
   ]
  },
  {
   "cell_type": "code",
   "execution_count": 4,
   "id": "29050fa8",
   "metadata": {},
   "outputs": [],
   "source": [
    "data = pd.read_csv(\"C:\\\\Users\\\\andre\\\\Desktop\\\\IMUproject\\\\global_food_wastage_dataset.csv\")"
   ]
  },
  {
   "cell_type": "code",
   "execution_count": null,
   "id": "ce7f61fc",
   "metadata": {},
   "outputs": [],
   "source": [
    "data.dtypes"
   ]
  },
  {
   "cell_type": "code",
   "execution_count": 13,
   "id": "44aa64a4",
   "metadata": {},
   "outputs": [
    {
     "data": {
      "text/html": [
       "\n",
       "        <iframe\n",
       "            width=\"100%\"\n",
       "            height=\"650\"\n",
       "            src=\"http://127.0.0.1:8684/\"\n",
       "            frameborder=\"0\"\n",
       "            allowfullscreen\n",
       "            \n",
       "        ></iframe>\n",
       "        "
      ],
      "text/plain": [
       "<IPython.lib.display.IFrame at 0x25222e6b250>"
      ]
     },
     "metadata": {},
     "output_type": "display_data"
    }
   ],
   "source": [
    "metric_map = {\n",
    "    \"total_waste_(tons)\": \"Total Waste (Tons)\",\n",
    "    \"economic_loss_(million_$)\": \"Economic Loss (Million $)\",\n",
    "    \"avg_waste_per_capita_(kg)\": \"Avg Waste per Capita (Kg)\",\n",
    "    \"household_waste_(%)\": \"Household Waste (%)\"\n",
    "}\n",
    "\n",
    "app = dash.Dash(__name__)\n",
    "app.title = \"Global Food Wastage Dashboard\"\n",
    "\n",
    "app.layout = html.Div([\n",
    "    html.H1(\"Global Food Wastage\", style={\n",
    "        'textAlign': 'center',\n",
    "        'color': 'dark green',\n",
    "        'fontFamily': 'Fraunces, serif',\n",
    "        'fontWeight': 'bold'\n",
    "    }),\n",
    "\n",
    "    html.Label(\"Filter by Country:\"),\n",
    "    dcc.Dropdown(\n",
    "        id=\"country_filter\",\n",
    "        options=[{\"label\": c, \"value\": c} for c in sorted(data[\"Country\"].unique())],\n",
    "        multi=True,\n",
    "        placeholder=\"Select Country(s)\"\n",
    "    ),\n",
    "\n",
    "    html.Label(\"Filter by Year:\"),\n",
    "    dcc.Dropdown(\n",
    "        id=\"year_filter\",\n",
    "        options=[{\"label\": y, \"value\": y} for y in sorted(data[\"Year\"].unique())],\n",
    "        multi=False,\n",
    "        placeholder=\"Select Year\"\n",
    "    ),\n",
    "\n",
    "    html.Label(\"Filter by Food Category(s):\"),\n",
    "    dcc.Dropdown(\n",
    "        id=\"food_category_filter\",\n",
    "        options=[{\"label\": f, \"value\": f} for f in sorted(data[\"Food Category\"].unique())],\n",
    "        multi=True,\n",
    "        placeholder=\"Select Food Category(s)\"\n",
    "    ),\n",
    "\n",
    "    html.Label(\"Select Metric:\"),\n",
    "    dcc.Dropdown(\n",
    "        id=\"metric_filter\",\n",
    "        options=[\n",
    "            {\"label\": \"Total Waste (Tons)\", \"value\": \"total_waste_(tons)\"},\n",
    "            {\"label\": \"Economic Loss (Million $)\", \"value\": \"economic_loss_(million_$)\"},\n",
    "            {\"label\": \"Avg Waste per Capita (Kg)\", \"value\": \"avg_waste_per_capita_(kg)\"},\n",
    "            {\"label\": \"Household Waste (%)\", \"value\": \"household_waste_(%)\"}\n",
    "        ],\n",
    "        value=\"total_waste_(tons)\",\n",
    "        clearable=False\n",
    "    ),\n",
    "\n",
    "    dcc.Graph(id=\"chart\")\n",
    "], style={\"padding\": \"20px\"})\n",
    "\n",
    "\n",
    "\n",
    "@app.callback(\n",
    "    Output(\"chart\", \"figure\"),\n",
    "    Input(\"country_filter\", \"value\"),\n",
    "    Input(\"year_filter\", \"value\"),\n",
    "    Input(\"food_category_filter\", \"value\"),\n",
    "    Input(\"metric_filter\", \"value\")\n",
    ")\n",
    "def update_chart(selected_country, selected_year, selected_food_category, selected_metric):\n",
    "    filtered_data = data.copy()\n",
    "\n",
    "    if selected_country:\n",
    "        filtered_data = filtered_data[filtered_data[\"Country\"].isin(selected_country)]\n",
    "    if selected_year:\n",
    "        filtered_data = filtered_data[filtered_data[\"Year\"] == selected_year]\n",
    "    if selected_food_category:\n",
    "        filtered_data = filtered_data[filtered_data[\"Food Category\"].isin(selected_food_category)]\n",
    "\n",
    "\n",
    "    metric_column = metric_map[selected_metric]\n",
    "\n",
    "    if filtered_data.empty:\n",
    "        return px.bar(title=\"No data available for selected filters\")\n",
    "\n",
    "    fig = px.bar(\n",
    "        filtered_data,\n",
    "        x=\"Food Category\",\n",
    "        y=metric_column,\n",
    "        color=\"Country\",\n",
    "        barmode=\"group\",\n",
    "        labels={metric_column: metric_column}\n",
    "    )\n",
    "\n",
    "    fig.update_layout(\n",
    "        title=f\"{metric_column} by Food Category ({selected_year})\",\n",
    "        xaxis_title=\"Food Category\",\n",
    "        yaxis_title=metric_column,\n",
    "        legend_title=\"Country\"\n",
    "    )\n",
    "\n",
    "    return fig\n",
    "\n",
    "if __name__ == \"__main__\":\n",
    "    random_port = random.randint(8050, 9000)\n",
    "    app.run(debug=True, port=random_port)"
   ]
  }
 ],
 "metadata": {
  "kernelspec": {
   "display_name": "Python 3",
   "language": "python",
   "name": "python3"
  },
  "language_info": {
   "codemirror_mode": {
    "name": "ipython",
    "version": 3
   },
   "file_extension": ".py",
   "mimetype": "text/x-python",
   "name": "python",
   "nbconvert_exporter": "python",
   "pygments_lexer": "ipython3",
   "version": "3.13.0"
  }
 },
 "nbformat": 4,
 "nbformat_minor": 5
}
